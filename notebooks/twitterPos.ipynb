{
 "cells": [
  {
   "cell_type": "markdown",
   "metadata": {},
   "source": [
    "##  Genbit Sample Notebook\n",
    "\n",
    "### The notebook is intended to provide quick start for users to build on top of the GenBit API."
   ]
  },
  {
   "cell_type": "markdown",
   "metadata": {},
   "source": [
    "## Install Genbit   "
   ]
  },
  {
   "cell_type": "code",
   "execution_count": 3,
   "metadata": {},
   "outputs": [
    {
     "name": "stdout",
     "output_type": "stream",
     "text": [
      "Requirement already satisfied: genbit in c:\\users\\gnkea\\appdata\\local\\packages\\pythonsoftwarefoundation.python.3.10_qbz5n2kfra8p0\\localcache\\local-packages\\python310\\site-packages (2.2.0.0)\n",
      "Requirement already satisfied: scipy>=1.5.2 in c:\\users\\gnkea\\appdata\\local\\packages\\pythonsoftwarefoundation.python.3.10_qbz5n2kfra8p0\\localcache\\local-packages\\python310\\site-packages (from genbit) (1.11.3)\n",
      "Requirement already satisfied: parameterized==0.7.4 in c:\\users\\gnkea\\appdata\\local\\packages\\pythonsoftwarefoundation.python.3.10_qbz5n2kfra8p0\\localcache\\local-packages\\python310\\site-packages (from genbit) (0.7.4)\n",
      "Requirement already satisfied: stopwordsiso==0.6.1 in c:\\users\\gnkea\\appdata\\local\\packages\\pythonsoftwarefoundation.python.3.10_qbz5n2kfra8p0\\localcache\\local-packages\\python310\\site-packages (from genbit) (0.6.1)\n",
      "Requirement already satisfied: language-tags==1.0.0 in c:\\users\\gnkea\\appdata\\local\\packages\\pythonsoftwarefoundation.python.3.10_qbz5n2kfra8p0\\localcache\\local-packages\\python310\\site-packages (from genbit) (1.0.0)\n",
      "Requirement already satisfied: stanza==1.2 in c:\\users\\gnkea\\appdata\\local\\packages\\pythonsoftwarefoundation.python.3.10_qbz5n2kfra8p0\\localcache\\local-packages\\python310\\site-packages (from genbit) (1.2)\n",
      "Requirement already satisfied: nltk==3.6.6 in c:\\users\\gnkea\\appdata\\local\\packages\\pythonsoftwarefoundation.python.3.10_qbz5n2kfra8p0\\localcache\\local-packages\\python310\\site-packages (from genbit) (3.6.6)\n",
      "Requirement already satisfied: numpy>=1.21.5 in c:\\users\\gnkea\\appdata\\local\\packages\\pythonsoftwarefoundation.python.3.10_qbz5n2kfra8p0\\localcache\\local-packages\\python310\\site-packages (from genbit) (1.25.2)\n",
      "Requirement already satisfied: six in c:\\users\\gnkea\\appdata\\local\\packages\\pythonsoftwarefoundation.python.3.10_qbz5n2kfra8p0\\localcache\\local-packages\\python310\\site-packages (from language-tags==1.0.0->genbit) (1.16.0)\n",
      "Requirement already satisfied: click in c:\\users\\gnkea\\appdata\\local\\packages\\pythonsoftwarefoundation.python.3.10_qbz5n2kfra8p0\\localcache\\local-packages\\python310\\site-packages (from nltk==3.6.6->genbit) (8.1.7)\n",
      "Requirement already satisfied: regex>=2021.8.3 in c:\\users\\gnkea\\appdata\\local\\packages\\pythonsoftwarefoundation.python.3.10_qbz5n2kfra8p0\\localcache\\local-packages\\python310\\site-packages (from nltk==3.6.6->genbit) (2023.12.25)\n",
      "Requirement already satisfied: tqdm in c:\\users\\gnkea\\appdata\\local\\packages\\pythonsoftwarefoundation.python.3.10_qbz5n2kfra8p0\\localcache\\local-packages\\python310\\site-packages (from nltk==3.6.6->genbit) (4.66.2)\n",
      "Requirement already satisfied: joblib in c:\\users\\gnkea\\appdata\\local\\packages\\pythonsoftwarefoundation.python.3.10_qbz5n2kfra8p0\\localcache\\local-packages\\python310\\site-packages (from nltk==3.6.6->genbit) (1.3.2)\n",
      "Requirement already satisfied: protobuf in c:\\users\\gnkea\\appdata\\local\\packages\\pythonsoftwarefoundation.python.3.10_qbz5n2kfra8p0\\localcache\\local-packages\\python310\\site-packages (from stanza==1.2->genbit) (5.26.1)\n",
      "Requirement already satisfied: torch>=1.3.0 in c:\\users\\gnkea\\appdata\\local\\packages\\pythonsoftwarefoundation.python.3.10_qbz5n2kfra8p0\\localcache\\local-packages\\python310\\site-packages (from stanza==1.2->genbit) (2.2.1)\n",
      "Requirement already satisfied: requests in c:\\users\\gnkea\\appdata\\local\\packages\\pythonsoftwarefoundation.python.3.10_qbz5n2kfra8p0\\localcache\\local-packages\\python310\\site-packages (from stanza==1.2->genbit) (2.31.0)\n",
      "Requirement already satisfied: typing-extensions>=4.8.0 in c:\\users\\gnkea\\appdata\\local\\packages\\pythonsoftwarefoundation.python.3.10_qbz5n2kfra8p0\\localcache\\local-packages\\python310\\site-packages (from torch>=1.3.0->stanza==1.2->genbit) (4.9.0)\n",
      "Requirement already satisfied: sympy in c:\\users\\gnkea\\appdata\\local\\packages\\pythonsoftwarefoundation.python.3.10_qbz5n2kfra8p0\\localcache\\local-packages\\python310\\site-packages (from torch>=1.3.0->stanza==1.2->genbit) (1.12)\n",
      "Requirement already satisfied: filelock in c:\\users\\gnkea\\appdata\\local\\packages\\pythonsoftwarefoundation.python.3.10_qbz5n2kfra8p0\\localcache\\local-packages\\python310\\site-packages (from torch>=1.3.0->stanza==1.2->genbit) (3.13.1)\n",
      "Requirement already satisfied: fsspec in c:\\users\\gnkea\\appdata\\local\\packages\\pythonsoftwarefoundation.python.3.10_qbz5n2kfra8p0\\localcache\\local-packages\\python310\\site-packages (from torch>=1.3.0->stanza==1.2->genbit) (2024.2.0)\n",
      "Requirement already satisfied: networkx in c:\\users\\gnkea\\appdata\\local\\packages\\pythonsoftwarefoundation.python.3.10_qbz5n2kfra8p0\\localcache\\local-packages\\python310\\site-packages (from torch>=1.3.0->stanza==1.2->genbit) (3.2.1)\n",
      "Requirement already satisfied: jinja2 in c:\\users\\gnkea\\appdata\\local\\packages\\pythonsoftwarefoundation.python.3.10_qbz5n2kfra8p0\\localcache\\local-packages\\python310\\site-packages (from torch>=1.3.0->stanza==1.2->genbit) (3.1.3)\n",
      "Requirement already satisfied: colorama in c:\\users\\gnkea\\appdata\\local\\packages\\pythonsoftwarefoundation.python.3.10_qbz5n2kfra8p0\\localcache\\local-packages\\python310\\site-packages (from click->nltk==3.6.6->genbit) (0.4.6)\n",
      "Requirement already satisfied: idna<4,>=2.5 in c:\\users\\gnkea\\appdata\\local\\packages\\pythonsoftwarefoundation.python.3.10_qbz5n2kfra8p0\\localcache\\local-packages\\python310\\site-packages (from requests->stanza==1.2->genbit) (3.6)\n",
      "Requirement already satisfied: urllib3<3,>=1.21.1 in c:\\users\\gnkea\\appdata\\local\\packages\\pythonsoftwarefoundation.python.3.10_qbz5n2kfra8p0\\localcache\\local-packages\\python310\\site-packages (from requests->stanza==1.2->genbit) (2.2.0)\n",
      "Requirement already satisfied: certifi>=2017.4.17 in c:\\users\\gnkea\\appdata\\local\\packages\\pythonsoftwarefoundation.python.3.10_qbz5n2kfra8p0\\localcache\\local-packages\\python310\\site-packages (from requests->stanza==1.2->genbit) (2024.2.2)\n",
      "Requirement already satisfied: charset-normalizer<4,>=2 in c:\\users\\gnkea\\appdata\\local\\packages\\pythonsoftwarefoundation.python.3.10_qbz5n2kfra8p0\\localcache\\local-packages\\python310\\site-packages (from requests->stanza==1.2->genbit) (3.3.2)\n",
      "Requirement already satisfied: MarkupSafe>=2.0 in c:\\users\\gnkea\\appdata\\local\\packages\\pythonsoftwarefoundation.python.3.10_qbz5n2kfra8p0\\localcache\\local-packages\\python310\\site-packages (from jinja2->torch>=1.3.0->stanza==1.2->genbit) (2.1.5)\n",
      "Requirement already satisfied: mpmath>=0.19 in c:\\users\\gnkea\\appdata\\local\\packages\\pythonsoftwarefoundation.python.3.10_qbz5n2kfra8p0\\localcache\\local-packages\\python310\\site-packages (from sympy->torch>=1.3.0->stanza==1.2->genbit) (1.3.0)\n",
      "Note: you may need to restart the kernel to use updated packages.\n"
     ]
    },
    {
     "name": "stderr",
     "output_type": "stream",
     "text": [
      "\n",
      "[notice] A new release of pip is available: 23.0.1 -> 24.0\n",
      "[notice] To update, run: C:\\Users\\gnkea\\AppData\\Local\\Microsoft\\WindowsApps\\PythonSoftwareFoundation.Python.3.10_qbz5n2kfra8p0\\python.exe -m pip install --upgrade pip\n"
     ]
    }
   ],
   "source": [
    "%pip install genbit"
   ]
  },
  {
   "cell_type": "markdown",
   "metadata": {},
   "source": [
    "### Import utilities"
   ]
  },
  {
   "cell_type": "code",
   "execution_count": 4,
   "metadata": {},
   "outputs": [],
   "source": [
    "import pprint\n",
    "import genbit\n",
    "from genbit.genbit_metrics import GenBitMetrics"
   ]
  },
  {
   "cell_type": "markdown",
   "metadata": {},
   "source": [
    "### Specify Filename Location and Language  \n",
    "(Accepted codes: EN,IT, RU, FR, DE and ES)"
   ]
  },
  {
   "cell_type": "code",
   "execution_count": 5,
   "metadata": {},
   "outputs": [],
   "source": [
    "input_file = \"twitterpositive.tsv\"\n",
    "language = \"en\""
   ]
  },
  {
   "cell_type": "code",
   "execution_count": 6,
   "metadata": {},
   "outputs": [],
   "source": [
    "metric = GenBitMetrics(language, context_window=30, distance_weight=0.95,\n",
    "                 percentile_cutoff=80)"
   ]
  },
  {
   "cell_type": "code",
   "execution_count": 7,
   "metadata": {},
   "outputs": [],
   "source": [
    "contiguous = False\n",
    "data = []\n",
    "with open(input_file, \"r\", encoding=\"utf-8\") as input_sentence_file:\n",
    "    for line in input_sentence_file:\n",
    "        if(contiguous):\n",
    "            line = line.strip()\n",
    "            data.append(line)\n",
    "        else:\n",
    "            data = []\n",
    "            line = line.strip()\n",
    "            data.append(line)\n",
    "            metric.add_data(data, tokenized=False)\n",
    "if(contiguous):\n",
    "    metric.add_data(data, tokenized=False)"
   ]
  },
  {
   "cell_type": "code",
   "execution_count": 8,
   "metadata": {},
   "outputs": [],
   "source": [
    "metrics = metric.get_metrics(output_statistics=True, output_word_list=False)"
   ]
  },
  {
   "cell_type": "code",
   "execution_count": 9,
   "metadata": {},
   "outputs": [
    {
     "name": "stdout",
     "output_type": "stream",
     "text": [
      "{'additional_metrics': {'avg_bias_conditional': -0.1466859364689251,\n",
      "                        'avg_bias_conditional_absolute': 0.5487641084908348,\n",
      "                        'avg_bias_ratio': -0.13224525231413145,\n",
      "                        'avg_bias_ratio_absolute': 0.5423481803629997,\n",
      "                        'avg_non_binary_bias_conditional': -0.013991301959264839,\n",
      "                        'avg_non_binary_bias_conditional_absolute': 0.6682867743966338,\n",
      "                        'avg_non_binary_bias_ratio': 0.012648525939946177,\n",
      "                        'avg_non_binary_bias_ratio_absolute': 0.6662340670854482,\n",
      "                        'avg_trans_cis_bias_conditional': -0.6024004452092936,\n",
      "                        'avg_trans_cis_bias_conditional_absolute': 0.6917600367040975,\n",
      "                        'avg_trans_cis_bias_ratio': -0.7680046632780295,\n",
      "                        'avg_trans_cis_bias_ratio_absolute': 0.7680046632780295,\n",
      "                        'std_dev_bias_conditional': 0,\n",
      "                        'std_dev_bias_ratio': 0,\n",
      "                        'std_dev_non_binary_bias_conditional': 0,\n",
      "                        'std_dev_non_binary_bias_ratio': 0,\n",
      "                        'std_dev_trans_cis_bias_conditional': 0,\n",
      "                        'std_dev_trans_cis_bias_ratio': 0},\n",
      " 'genbit_score': 0.5487641084908348,\n",
      " 'percentage_of_cis_gender_definition_words': 0.0,\n",
      " 'percentage_of_female_gender_definition_words': 0.24859550561797752,\n",
      " 'percentage_of_male_gender_definition_words': 0.32162921348314605,\n",
      " 'percentage_of_non_binary_gender_definition_words': 0.4297752808988764,\n",
      " 'percentage_of_trans_gender_definition_words': 1.0,\n",
      " 'statistics': {'freq_of_female_gender_definition_words': 177,\n",
      "                'freq_of_male_gender_definition_words': 229,\n",
      "                'freq_of_non_binary_gender_definition_words': 306,\n",
      "                'frequency_cutoff': 3.95,\n",
      "                'jsd': 0.03188315122697695,\n",
      "                'num_words_considered': 745}}\n"
     ]
    }
   ],
   "source": [
    "pprint.pprint(metrics)"
   ]
  },
  {
   "cell_type": "markdown",
   "metadata": {},
   "source": [
    "### Print the results\n",
    "The results using the test file should show a heavy non-binary bias as many terms in the sample file are gender 'neutral' or explicitly non-binary. You will also observe that in the case of binary bias, there is a slight male-leaning bias due to the more frequently occure male gender definition words throughout the samples in the data."
   ]
  },
  {
   "cell_type": "markdown",
   "metadata": {},
   "source": [
    "###  ----- END -------- "
   ]
  }
 ],
 "metadata": {
  "kernelspec": {
   "display_name": "Python 3.7.4 64-bit",
   "language": "python",
   "name": "python3"
  },
  "language_info": {
   "codemirror_mode": {
    "name": "ipython",
    "version": 3
   },
   "file_extension": ".py",
   "mimetype": "text/x-python",
   "name": "python",
   "nbconvert_exporter": "python",
   "pygments_lexer": "ipython3",
   "version": "3.10.11"
  },
  "vscode": {
   "interpreter": {
    "hash": "c4c9c2217c4bfe78787fc58d5a1d89949f3cc677077c7eb9a266b59c8b60ec1e"
   }
  }
 },
 "nbformat": 4,
 "nbformat_minor": 4
}
