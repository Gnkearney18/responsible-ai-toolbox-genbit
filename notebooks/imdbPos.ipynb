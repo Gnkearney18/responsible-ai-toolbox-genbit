{
 "cells": [
  {
   "cell_type": "markdown",
   "metadata": {},
   "source": [
    "##  Genbit Sample Notebook\n",
    "\n",
    "### The notebook is intended to provide quick start for users to build on top of the GenBit API."
   ]
  },
  {
   "cell_type": "markdown",
   "metadata": {},
   "source": [
    "## Install Genbit   "
   ]
  },
  {
   "cell_type": "code",
   "execution_count": 1,
   "metadata": {},
   "outputs": [],
   "source": [
    "# %pip install genbit"
   ]
  },
  {
   "cell_type": "markdown",
   "metadata": {},
   "source": [
    "### Import utilities"
   ]
  },
  {
   "cell_type": "code",
   "execution_count": 2,
   "metadata": {},
   "outputs": [],
   "source": [
    "import pprint\n",
    "import genbit\n",
    "from genbit.genbit_metrics import GenBitMetrics"
   ]
  },
  {
   "cell_type": "markdown",
   "metadata": {},
   "source": [
    "### Specify Filename Location and Language  \n",
    "(Accepted codes: EN,IT, RU, FR, DE and ES)"
   ]
  },
  {
   "cell_type": "code",
   "execution_count": 3,
   "metadata": {},
   "outputs": [],
   "source": [
    "input_file = \"imdbpositive.tsv\"\n",
    "language = \"en\""
   ]
  },
  {
   "cell_type": "code",
   "execution_count": 4,
   "metadata": {},
   "outputs": [],
   "source": [
    "metric = GenBitMetrics(language, context_window=30, distance_weight=0.95,\n",
    "                 percentile_cutoff=80)"
   ]
  },
  {
   "cell_type": "code",
   "execution_count": 5,
   "metadata": {},
   "outputs": [],
   "source": [
    "contiguous = False\n",
    "data = []\n",
    "with open(input_file, \"r\", encoding=\"utf-8\") as input_sentence_file:\n",
    "    for line in input_sentence_file:\n",
    "        if(contiguous):\n",
    "            line = line.strip()\n",
    "            data.append(line)\n",
    "        else:\n",
    "            data = []\n",
    "            line = line.strip()\n",
    "            data.append(line)\n",
    "            metric.add_data(data, tokenized=False)\n",
    "if(contiguous):\n",
    "    metric.add_data(data, tokenized=False)"
   ]
  },
  {
   "cell_type": "code",
   "execution_count": 6,
   "metadata": {},
   "outputs": [],
   "source": [
    "metrics = metric.get_metrics(output_statistics=True, output_word_list=False)"
   ]
  },
  {
   "cell_type": "markdown",
   "metadata": {},
   "source": [
    "### Print the results\n",
    "The results using the test file should show a heavy non-binary bias as many terms in the sample file are gender 'neutral' or explicitly non-binary. You will also observe that in the case of binary bias, there is a slight male-leaning bias due to the more frequently occure male gender definition words throughout the samples in the data."
   ]
  },
  {
   "cell_type": "code",
   "execution_count": 7,
   "metadata": {},
   "outputs": [
    {
     "name": "stdout",
     "output_type": "stream",
     "text": [
      "{'additional_metrics': {'avg_bias_conditional': 0.34498379111709554,\n",
      "                        'avg_bias_conditional_absolute': 0.5729149233899209,\n",
      "                        'avg_bias_ratio': 0.6949949357338604,\n",
      "                        'avg_bias_ratio_absolute': 0.8047695393084777,\n",
      "                        'avg_non_binary_bias_conditional': 0.37123926988539446,\n",
      "                        'avg_non_binary_bias_conditional_absolute': 0.45198253335050115,\n",
      "                        'avg_non_binary_bias_ratio': 0.9216962853680956,\n",
      "                        'avg_non_binary_bias_ratio_absolute': 0.9301694999184437,\n",
      "                        'avg_trans_cis_bias_conditional': -2.6625368080321694,\n",
      "                        'avg_trans_cis_bias_conditional_absolute': 2.6631617477962806,\n",
      "                        'avg_trans_cis_bias_ratio': -3.921669865456539,\n",
      "                        'avg_trans_cis_bias_ratio_absolute': 3.921669865456539,\n",
      "                        'std_dev_bias_conditional': 0,\n",
      "                        'std_dev_bias_ratio': 0,\n",
      "                        'std_dev_non_binary_bias_conditional': 0,\n",
      "                        'std_dev_non_binary_bias_ratio': 0,\n",
      "                        'std_dev_trans_cis_bias_conditional': 0,\n",
      "                        'std_dev_trans_cis_bias_ratio': 0},\n",
      " 'genbit_score': 0.5729149233899209,\n",
      " 'percentage_of_cis_gender_definition_words': 0.0,\n",
      " 'percentage_of_female_gender_definition_words': 0.24729682454792934,\n",
      " 'percentage_of_male_gender_definition_words': 0.4511417875338274,\n",
      " 'percentage_of_non_binary_gender_definition_words': 0.3015613879182433,\n",
      " 'percentage_of_trans_gender_definition_words': 1.0,\n",
      " 'statistics': {'freq_of_female_gender_definition_words': 61500,\n",
      "                'freq_of_male_gender_definition_words': 112194,\n",
      "                'freq_of_non_binary_gender_definition_words': 74995,\n",
      "                'frequency_cutoff': 49.43945521617648,\n",
      "                'jsd': 0.03559318457363733,\n",
      "                'num_words_considered': 11596}}\n"
     ]
    }
   ],
   "source": [
    "pprint.pprint(metrics)"
   ]
  },
  {
   "cell_type": "markdown",
   "metadata": {},
   "source": [
    "###  ----- END -------- "
   ]
  }
 ],
 "metadata": {
  "kernelspec": {
   "display_name": "Python 3.7.4 64-bit",
   "language": "python",
   "name": "python3"
  },
  "language_info": {
   "codemirror_mode": {
    "name": "ipython",
    "version": 3
   },
   "file_extension": ".py",
   "mimetype": "text/x-python",
   "name": "python",
   "nbconvert_exporter": "python",
   "pygments_lexer": "ipython3",
   "version": "3.10.11"
  },
  "vscode": {
   "interpreter": {
    "hash": "c4c9c2217c4bfe78787fc58d5a1d89949f3cc677077c7eb9a266b59c8b60ec1e"
   }
  }
 },
 "nbformat": 4,
 "nbformat_minor": 4
}
