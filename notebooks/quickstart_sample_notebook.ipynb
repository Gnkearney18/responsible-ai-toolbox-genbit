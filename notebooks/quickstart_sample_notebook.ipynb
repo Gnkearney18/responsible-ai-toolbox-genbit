{
 "cells": [
  {
   "cell_type": "markdown",
   "metadata": {},
   "source": [
    "##  Genbit Sample Notebook\n",
    "\n",
    "### The notebook is intended to provide quick start for users to build on top of the GenBit API."
   ]
  },
  {
   "cell_type": "markdown",
   "metadata": {},
   "source": [
    "## Install Genbit   "
   ]
  },
  {
   "cell_type": "code",
   "execution_count": null,
   "metadata": {},
   "outputs": [],
   "source": [
    "!pip install genbit"
   ]
  },
  {
   "cell_type": "markdown",
   "metadata": {},
   "source": [
    "### Import utilities"
   ]
  },
  {
   "cell_type": "code",
   "execution_count": 6,
   "metadata": {},
   "outputs": [],
   "source": [
    "import pprint\n",
    "import genbit\n",
    "from genbit.genbit_metrics import GenBitMetrics"
   ]
  },
  {
   "cell_type": "markdown",
   "metadata": {},
   "source": [
    "### Specify Filename Location and Language  \n",
    "(Accepted codes: EN,IT, RU, FR, DE and ES)"
   ]
  },
  {
   "cell_type": "code",
   "execution_count": 25,
   "metadata": {},
   "outputs": [],
   "source": [
    "input_file = \"sample_100.tsv\"\n",
    "language = \"en\""
   ]
  },
  {
   "cell_type": "code",
   "execution_count": 26,
   "metadata": {},
   "outputs": [],
   "source": [
    "metric = GenBitMetrics(language, context_window=30, distance_weight=0.95,\n",
    "                 percentile_cutoff=80)"
   ]
  },
  {
   "cell_type": "code",
   "execution_count": 27,
   "metadata": {},
   "outputs": [],
   "source": [
    "contiguous = False\n",
    "data = []\n",
    "with open(input_file, \"r\", encoding=\"utf-8\") as input_sentence_file:\n",
    "    for line in input_sentence_file:\n",
    "        if(contiguous):\n",
    "            line = line.strip()\n",
    "            data.append(line)\n",
    "        else:\n",
    "            data = []\n",
    "            line = line.strip()\n",
    "            data.append(line)\n",
    "            metric.add_data(data, tokenized=False)\n",
    "if(contiguous):\n",
    "    metric.add_data(data, tokenized=False)"
   ]
  },
  {
   "cell_type": "code",
   "execution_count": 28,
   "metadata": {},
   "outputs": [],
   "source": [
    "metrics = metric.get_metrics(output_statistics=True, output_word_list=False)"
   ]
  },
  {
   "cell_type": "code",
   "execution_count": 29,
   "metadata": {},
   "outputs": [
    {
     "name": "stdout",
     "output_type": "stream",
     "text": [
      "{'additional_metrics': {'avg_bias_conditional': 0.032361523980674683,\n",
      "                        'avg_bias_conditional_absolute': 0.3828905575295509,\n",
      "                        'avg_bias_ratio': 0.07492113839947061,\n",
      "                        'avg_bias_ratio_absolute': 0.36993763140209124,\n",
      "                        'avg_non_binary_bias_conditional': 0.5842828594306178,\n",
      "                        'avg_non_binary_bias_conditional_absolute': 0.6897455728863865,\n",
      "                        'avg_non_binary_bias_ratio': 0.44208120562122455,\n",
      "                        'avg_non_binary_bias_ratio_absolute': 0.6257106493934639,\n",
      "                        'std_dev_bias_conditional': 0.5370944781602932,\n",
      "                        'std_dev_bias_ratio': 0.5370944781602932,\n",
      "                        'std_dev_non_binary_bias_conditional': 0.6488730537070255,\n",
      "                        'std_dev_non_binary_bias_ratio': 0.6498873506639032},\n",
      " 'genbit_score': 0.3828905575295509,\n",
      " 'percentage_of_female_gender_definition_words': 0.2557077625570776,\n",
      " 'percentage_of_male_gender_definition_words': 0.3013698630136986,\n",
      " 'percentage_of_non_binary_gender_definition_words': 0.4429223744292237,\n",
      " 'statistics': {'freq_of_female_gender_definition_words': 56,\n",
      "                'freq_of_male_gender_definition_words': 66,\n",
      "                'freq_of_non_binary_gender_definition_words': 97,\n",
      "                'frequency_cutoff': 11.58287475,\n",
      "                'jsd': 0.04140816003886715,\n",
      "                'num_words_considered': 23}}\n"
     ]
    }
   ],
   "source": [
    "pprint.pprint(metrics)"
   ]
  },
  {
   "cell_type": "markdown",
   "metadata": {},
   "source": [
    "###  ----- END -------- "
   ]
  }
 ],
 "metadata": {
  "kernelspec": {
   "display_name": "Python 3.7.4 64-bit",
   "language": "python",
   "name": "python3"
  },
  "language_info": {
   "codemirror_mode": {
    "name": "ipython",
    "version": 3
   },
   "file_extension": ".py",
   "mimetype": "text/x-python",
   "name": "python",
   "nbconvert_exporter": "python",
   "pygments_lexer": "ipython3",
   "version": "3.7.4"
  },
  "vscode": {
   "interpreter": {
    "hash": "c4c9c2217c4bfe78787fc58d5a1d89949f3cc677077c7eb9a266b59c8b60ec1e"
   }
  }
 },
 "nbformat": 4,
 "nbformat_minor": 4
}
